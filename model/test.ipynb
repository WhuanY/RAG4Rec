{
 "cells": [
  {
   "cell_type": "code",
   "execution_count": 14,
   "metadata": {},
   "outputs": [],
   "source": [
    "import torch\n",
    "import torch.nn as nn\n",
    "import torch.nn.functional as F\n",
    "input = torch.randn(256*20, 64, 500)"
   ]
  },
  {
   "cell_type": "code",
   "execution_count": 17,
   "metadata": {},
   "outputs": [],
   "source": [
    "m = nn.MaxPool1d(input.size(2))"
   ]
  },
  {
   "cell_type": "code",
   "execution_count": 24,
   "metadata": {},
   "outputs": [
    {
     "data": {
      "text/plain": [
       "torch.return_types.max(\n",
       "values=tensor([[2.9998, 3.3293, 2.8209,  ..., 3.3017, 3.1332, 3.4621],\n",
       "        [3.6022, 3.4629, 3.8052,  ..., 3.7313, 3.5161, 2.9825],\n",
       "        [3.1305, 2.5181, 3.3323,  ..., 2.6727, 2.8280, 3.2001],\n",
       "        ...,\n",
       "        [3.0309, 3.0794, 3.6517,  ..., 2.8428, 3.4508, 3.4619],\n",
       "        [3.2602, 3.0580, 2.7707,  ..., 2.6689, 3.5155, 3.1025],\n",
       "        [2.6460, 3.9895, 3.1591,  ..., 3.1242, 2.6412, 3.6277]]),\n",
       "indices=tensor([[451, 299, 423,  ...,   5, 304, 290],\n",
       "        [371,  23, 172,  ..., 350, 169, 383],\n",
       "        [350, 373,  25,  ...,  47,  56, 262],\n",
       "        ...,\n",
       "        [202, 223, 436,  ..., 376, 444, 281],\n",
       "        [ 86, 332, 369,  ..., 205, 390, 120],\n",
       "        [257, 203, 309,  ..., 137, 387, 186]]))"
      ]
     },
     "execution_count": 24,
     "metadata": {},
     "output_type": "execute_result"
    }
   ],
   "source": [
    "input.max(dim=2)"
   ]
  },
  {
   "cell_type": "code",
   "execution_count": 28,
   "metadata": {},
   "outputs": [
    {
     "data": {
      "text/plain": [
       "tensor([-0.1834,  0.0862,  0.2987, -0.1782, -0.0920, -0.0905,  0.0554, -0.1302,\n",
       "        -0.2461,  0.0627])"
      ]
     },
     "execution_count": 28,
     "metadata": {},
     "output_type": "execute_result"
    }
   ],
   "source": [
    "geek_out = torch.randn(10, 64)\n",
    "job_out = torch.randn(10, 64)"
   ]
  },
  {
   "cell_type": "code",
   "execution_count": 32,
   "metadata": {},
   "outputs": [
    {
     "data": {
      "text/plain": [
       "tensor([-0.1834,  0.0862,  0.2987, -0.1782, -0.0920, -0.0905,  0.0554, -0.1302,\n",
       "        -0.2461,  0.0627])"
      ]
     },
     "execution_count": 32,
     "metadata": {},
     "output_type": "execute_result"
    }
   ],
   "source": [
    "F.cosine_similarity(geek_out, job_out, dim=1)"
   ]
  },
  {
   "cell_type": "code",
   "execution_count": null,
   "metadata": {},
   "outputs": [],
   "source": []
  }
 ],
 "metadata": {
  "kernelspec": {
   "display_name": "recbole",
   "language": "python",
   "name": "python3"
  },
  "language_info": {
   "codemirror_mode": {
    "name": "ipython",
    "version": 3
   },
   "file_extension": ".py",
   "mimetype": "text/x-python",
   "name": "python",
   "nbconvert_exporter": "python",
   "pygments_lexer": "ipython3",
   "version": "3.12.8"
  }
 },
 "nbformat": 4,
 "nbformat_minor": 2
}
